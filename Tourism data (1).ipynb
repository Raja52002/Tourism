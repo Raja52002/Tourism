{
 "cells": [
  {
   "cell_type": "code",
   "execution_count": 1,
   "id": "87cebcba",
   "metadata": {},
   "outputs": [],
   "source": [
    "import pandas as pd\n",
    "import numpy as np\n",
    "import seaborn as sns"
   ]
  },
  {
   "cell_type": "code",
   "execution_count": 2,
   "id": "9150afd1",
   "metadata": {},
   "outputs": [
    {
     "data": {
      "text/html": [
       "<div>\n",
       "<style scoped>\n",
       "    .dataframe tbody tr th:only-of-type {\n",
       "        vertical-align: middle;\n",
       "    }\n",
       "\n",
       "    .dataframe tbody tr th {\n",
       "        vertical-align: top;\n",
       "    }\n",
       "\n",
       "    .dataframe thead th {\n",
       "        text-align: right;\n",
       "    }\n",
       "</style>\n",
       "<table border=\"1\" class=\"dataframe\">\n",
       "  <thead>\n",
       "    <tr style=\"text-align: right;\">\n",
       "      <th></th>\n",
       "      <th>Continent</th>\n",
       "      <th>Country</th>\n",
       "      <th>CountryJoin</th>\n",
       "      <th>Month</th>\n",
       "      <th>Seasons</th>\n",
       "      <th>State</th>\n",
       "      <th>Way In</th>\n",
       "      <th>Year</th>\n",
       "      <th>Count</th>\n",
       "      <th>GDP</th>\n",
       "      <th>Population</th>\n",
       "    </tr>\n",
       "  </thead>\n",
       "  <tbody>\n",
       "    <tr>\n",
       "      <th>0</th>\n",
       "      <td>Europe</td>\n",
       "      <td>Austria</td>\n",
       "      <td>Austria</td>\n",
       "      <td>January</td>\n",
       "      <td>Winter</td>\n",
       "      <td>Amazonas</td>\n",
       "      <td>Land</td>\n",
       "      <td>2009</td>\n",
       "      <td>4.0</td>\n",
       "      <td>30000.0</td>\n",
       "      <td>8192880.0</td>\n",
       "    </tr>\n",
       "    <tr>\n",
       "      <th>1</th>\n",
       "      <td>Europe</td>\n",
       "      <td>Denmark</td>\n",
       "      <td>Denmark</td>\n",
       "      <td>January</td>\n",
       "      <td>Winter</td>\n",
       "      <td>Amazonas</td>\n",
       "      <td>Land</td>\n",
       "      <td>2009</td>\n",
       "      <td>2.0</td>\n",
       "      <td>31100.0</td>\n",
       "      <td>5450661.0</td>\n",
       "    </tr>\n",
       "    <tr>\n",
       "      <th>2</th>\n",
       "      <td>Europe</td>\n",
       "      <td>Switzerland</td>\n",
       "      <td>Switzerland</td>\n",
       "      <td>January</td>\n",
       "      <td>Winter</td>\n",
       "      <td>Amazonas</td>\n",
       "      <td>Land</td>\n",
       "      <td>2009</td>\n",
       "      <td>15.0</td>\n",
       "      <td>32700.0</td>\n",
       "      <td>7523934.0</td>\n",
       "    </tr>\n",
       "    <tr>\n",
       "      <th>3</th>\n",
       "      <td>Europe</td>\n",
       "      <td>Norway</td>\n",
       "      <td>Norway</td>\n",
       "      <td>January</td>\n",
       "      <td>Winter</td>\n",
       "      <td>Amazonas</td>\n",
       "      <td>Land</td>\n",
       "      <td>2009</td>\n",
       "      <td>0.0</td>\n",
       "      <td>37800.0</td>\n",
       "      <td>4610820.0</td>\n",
       "    </tr>\n",
       "    <tr>\n",
       "      <th>4</th>\n",
       "      <td>Europe</td>\n",
       "      <td>Other countries</td>\n",
       "      <td>NaN</td>\n",
       "      <td>January</td>\n",
       "      <td>Winter</td>\n",
       "      <td>Mato Grosso do Sul</td>\n",
       "      <td>Land</td>\n",
       "      <td>2009</td>\n",
       "      <td>0.0</td>\n",
       "      <td>NaN</td>\n",
       "      <td>NaN</td>\n",
       "    </tr>\n",
       "  </tbody>\n",
       "</table>\n",
       "</div>"
      ],
      "text/plain": [
       "  Continent          Country  CountryJoin    Month Seasons  \\\n",
       "0    Europe          Austria      Austria  January  Winter   \n",
       "1    Europe          Denmark      Denmark  January  Winter   \n",
       "2    Europe      Switzerland  Switzerland  January  Winter   \n",
       "3    Europe           Norway       Norway  January  Winter   \n",
       "4    Europe  Other countries          NaN  January  Winter   \n",
       "\n",
       "                State Way In  Year  Count      GDP  Population  \n",
       "0            Amazonas   Land  2009    4.0  30000.0   8192880.0  \n",
       "1            Amazonas   Land  2009    2.0  31100.0   5450661.0  \n",
       "2            Amazonas   Land  2009   15.0  32700.0   7523934.0  \n",
       "3            Amazonas   Land  2009    0.0  37800.0   4610820.0  \n",
       "4  Mato Grosso do Sul   Land  2009    0.0      NaN         NaN  "
      ]
     },
     "execution_count": 2,
     "metadata": {},
     "output_type": "execute_result"
    }
   ],
   "source": [
    "td = pd.read_csv('tourism_data.csv')\n",
    "td.head()"
   ]
  },
  {
   "cell_type": "code",
   "execution_count": 3,
   "id": "c2ac346a",
   "metadata": {},
   "outputs": [
    {
     "data": {
      "text/plain": [
       "(247284, 11)"
      ]
     },
     "execution_count": 3,
     "metadata": {},
     "output_type": "execute_result"
    }
   ],
   "source": [
    "td.shape"
   ]
  },
  {
   "cell_type": "code",
   "execution_count": 4,
   "id": "92f5a8d6",
   "metadata": {},
   "outputs": [
    {
     "data": {
      "text/html": [
       "<div>\n",
       "<style scoped>\n",
       "    .dataframe tbody tr th:only-of-type {\n",
       "        vertical-align: middle;\n",
       "    }\n",
       "\n",
       "    .dataframe tbody tr th {\n",
       "        vertical-align: top;\n",
       "    }\n",
       "\n",
       "    .dataframe thead th {\n",
       "        text-align: right;\n",
       "    }\n",
       "</style>\n",
       "<table border=\"1\" class=\"dataframe\">\n",
       "  <thead>\n",
       "    <tr style=\"text-align: right;\">\n",
       "      <th></th>\n",
       "      <th>Continent</th>\n",
       "      <th>Country</th>\n",
       "      <th>CountryJoin</th>\n",
       "      <th>Month</th>\n",
       "      <th>Seasons</th>\n",
       "      <th>State</th>\n",
       "      <th>Way In</th>\n",
       "      <th>Year</th>\n",
       "      <th>Count</th>\n",
       "      <th>GDP</th>\n",
       "      <th>Population</th>\n",
       "    </tr>\n",
       "  </thead>\n",
       "  <tbody>\n",
       "    <tr>\n",
       "      <th>247274</th>\n",
       "      <td>Europe</td>\n",
       "      <td>Denmark</td>\n",
       "      <td>Denmark</td>\n",
       "      <td>May</td>\n",
       "      <td>Spring</td>\n",
       "      <td>Rio Grande do Sul</td>\n",
       "      <td>River</td>\n",
       "      <td>2011</td>\n",
       "      <td>0.0</td>\n",
       "      <td>31100.0</td>\n",
       "      <td>5450661.0</td>\n",
       "    </tr>\n",
       "    <tr>\n",
       "      <th>247275</th>\n",
       "      <td>Europe</td>\n",
       "      <td>Switzerland</td>\n",
       "      <td>Switzerland</td>\n",
       "      <td>May</td>\n",
       "      <td>Spring</td>\n",
       "      <td>Rio Grande do Sul</td>\n",
       "      <td>River</td>\n",
       "      <td>2011</td>\n",
       "      <td>0.0</td>\n",
       "      <td>32700.0</td>\n",
       "      <td>7523934.0</td>\n",
       "    </tr>\n",
       "    <tr>\n",
       "      <th>247276</th>\n",
       "      <td>Europe</td>\n",
       "      <td>Norway</td>\n",
       "      <td>Norway</td>\n",
       "      <td>May</td>\n",
       "      <td>Spring</td>\n",
       "      <td>Rio Grande do Sul</td>\n",
       "      <td>River</td>\n",
       "      <td>2011</td>\n",
       "      <td>0.0</td>\n",
       "      <td>37800.0</td>\n",
       "      <td>4610820.0</td>\n",
       "    </tr>\n",
       "    <tr>\n",
       "      <th>247277</th>\n",
       "      <td>Europe</td>\n",
       "      <td>Other countries</td>\n",
       "      <td>NaN</td>\n",
       "      <td>August</td>\n",
       "      <td>Summer</td>\n",
       "      <td>Acre</td>\n",
       "      <td>River</td>\n",
       "      <td>2015</td>\n",
       "      <td>0.0</td>\n",
       "      <td>NaN</td>\n",
       "      <td>NaN</td>\n",
       "    </tr>\n",
       "    <tr>\n",
       "      <th>247278</th>\n",
       "      <td>Europe</td>\n",
       "      <td>Russia</td>\n",
       "      <td>Russia</td>\n",
       "      <td>August</td>\n",
       "      <td>Summer</td>\n",
       "      <td>Acre</td>\n",
       "      <td>River</td>\n",
       "      <td>2015</td>\n",
       "      <td>0.0</td>\n",
       "      <td>8900.0</td>\n",
       "      <td>142893540.0</td>\n",
       "    </tr>\n",
       "    <tr>\n",
       "      <th>247279</th>\n",
       "      <td>Europe</td>\n",
       "      <td>Poland</td>\n",
       "      <td>Poland</td>\n",
       "      <td>August</td>\n",
       "      <td>Summer</td>\n",
       "      <td>Acre</td>\n",
       "      <td>River</td>\n",
       "      <td>2015</td>\n",
       "      <td>0.0</td>\n",
       "      <td>11100.0</td>\n",
       "      <td>38536869.0</td>\n",
       "    </tr>\n",
       "    <tr>\n",
       "      <th>247280</th>\n",
       "      <td>Europe</td>\n",
       "      <td>Hungary</td>\n",
       "      <td>Hungary</td>\n",
       "      <td>August</td>\n",
       "      <td>Summer</td>\n",
       "      <td>Acre</td>\n",
       "      <td>River</td>\n",
       "      <td>2015</td>\n",
       "      <td>0.0</td>\n",
       "      <td>13900.0</td>\n",
       "      <td>9981334.0</td>\n",
       "    </tr>\n",
       "    <tr>\n",
       "      <th>247281</th>\n",
       "      <td>Europe</td>\n",
       "      <td>Czech Republic</td>\n",
       "      <td>Czech Republic</td>\n",
       "      <td>August</td>\n",
       "      <td>Summer</td>\n",
       "      <td>Acre</td>\n",
       "      <td>River</td>\n",
       "      <td>2015</td>\n",
       "      <td>0.0</td>\n",
       "      <td>15700.0</td>\n",
       "      <td>10235455.0</td>\n",
       "    </tr>\n",
       "    <tr>\n",
       "      <th>247282</th>\n",
       "      <td>Europe</td>\n",
       "      <td>Portugal</td>\n",
       "      <td>Portugal</td>\n",
       "      <td>August</td>\n",
       "      <td>Summer</td>\n",
       "      <td>Acre</td>\n",
       "      <td>River</td>\n",
       "      <td>2015</td>\n",
       "      <td>0.0</td>\n",
       "      <td>18000.0</td>\n",
       "      <td>10605870.0</td>\n",
       "    </tr>\n",
       "    <tr>\n",
       "      <th>247283</th>\n",
       "      <td>Europe</td>\n",
       "      <td>Greece</td>\n",
       "      <td>Greece</td>\n",
       "      <td>August</td>\n",
       "      <td>Summer</td>\n",
       "      <td>Acre</td>\n",
       "      <td>River</td>\n",
       "      <td>2015</td>\n",
       "      <td>0.0</td>\n",
       "      <td>20000.0</td>\n",
       "      <td>10688058.0</td>\n",
       "    </tr>\n",
       "  </tbody>\n",
       "</table>\n",
       "</div>"
      ],
      "text/plain": [
       "       Continent          Country     CountryJoin   Month Seasons  \\\n",
       "247274    Europe          Denmark         Denmark     May  Spring   \n",
       "247275    Europe      Switzerland     Switzerland     May  Spring   \n",
       "247276    Europe           Norway          Norway     May  Spring   \n",
       "247277    Europe  Other countries             NaN  August  Summer   \n",
       "247278    Europe           Russia          Russia  August  Summer   \n",
       "247279    Europe           Poland          Poland  August  Summer   \n",
       "247280    Europe          Hungary         Hungary  August  Summer   \n",
       "247281    Europe   Czech Republic  Czech Republic  August  Summer   \n",
       "247282    Europe         Portugal        Portugal  August  Summer   \n",
       "247283    Europe           Greece          Greece  August  Summer   \n",
       "\n",
       "                    State Way In  Year  Count      GDP   Population  \n",
       "247274  Rio Grande do Sul  River  2011    0.0  31100.0    5450661.0  \n",
       "247275  Rio Grande do Sul  River  2011    0.0  32700.0    7523934.0  \n",
       "247276  Rio Grande do Sul  River  2011    0.0  37800.0    4610820.0  \n",
       "247277               Acre  River  2015    0.0      NaN          NaN  \n",
       "247278               Acre  River  2015    0.0   8900.0  142893540.0  \n",
       "247279               Acre  River  2015    0.0  11100.0   38536869.0  \n",
       "247280               Acre  River  2015    0.0  13900.0    9981334.0  \n",
       "247281               Acre  River  2015    0.0  15700.0   10235455.0  \n",
       "247282               Acre  River  2015    0.0  18000.0   10605870.0  \n",
       "247283               Acre  River  2015    0.0  20000.0   10688058.0  "
      ]
     },
     "execution_count": 4,
     "metadata": {},
     "output_type": "execute_result"
    }
   ],
   "source": [
    "td.tail(10)"
   ]
  },
  {
   "cell_type": "code",
   "execution_count": 5,
   "id": "6e754a53",
   "metadata": {},
   "outputs": [
    {
     "data": {
      "text/html": [
       "<div>\n",
       "<style scoped>\n",
       "    .dataframe tbody tr th:only-of-type {\n",
       "        vertical-align: middle;\n",
       "    }\n",
       "\n",
       "    .dataframe tbody tr th {\n",
       "        vertical-align: top;\n",
       "    }\n",
       "\n",
       "    .dataframe thead th {\n",
       "        text-align: right;\n",
       "    }\n",
       "</style>\n",
       "<table border=\"1\" class=\"dataframe\">\n",
       "  <thead>\n",
       "    <tr style=\"text-align: right;\">\n",
       "      <th></th>\n",
       "      <th>Year</th>\n",
       "      <th>Count</th>\n",
       "      <th>GDP</th>\n",
       "      <th>Population</th>\n",
       "    </tr>\n",
       "  </thead>\n",
       "  <tbody>\n",
       "    <tr>\n",
       "      <th>count</th>\n",
       "      <td>247284.000000</td>\n",
       "      <td>245364.000000</td>\n",
       "      <td>214848.000000</td>\n",
       "      <td>2.148480e+05</td>\n",
       "    </tr>\n",
       "    <tr>\n",
       "      <th>mean</th>\n",
       "      <td>2010.249478</td>\n",
       "      <td>244.807841</td>\n",
       "      <td>16518.984584</td>\n",
       "      <td>7.998275e+07</td>\n",
       "    </tr>\n",
       "    <tr>\n",
       "      <th>std</th>\n",
       "      <td>3.206390</td>\n",
       "      <td>2140.069391</td>\n",
       "      <td>11310.097391</td>\n",
       "      <td>2.340447e+08</td>\n",
       "    </tr>\n",
       "    <tr>\n",
       "      <th>min</th>\n",
       "      <td>2005.000000</td>\n",
       "      <td>0.000000</td>\n",
       "      <td>900.000000</td>\n",
       "      <td>1.995090e+05</td>\n",
       "    </tr>\n",
       "    <tr>\n",
       "      <th>25%</th>\n",
       "      <td>2007.000000</td>\n",
       "      <td>0.000000</td>\n",
       "      <td>5100.000000</td>\n",
       "      <td>6.352117e+06</td>\n",
       "    </tr>\n",
       "    <tr>\n",
       "      <th>50%</th>\n",
       "      <td>2010.000000</td>\n",
       "      <td>0.000000</td>\n",
       "      <td>13900.000000</td>\n",
       "      <td>1.212707e+07</td>\n",
       "    </tr>\n",
       "    <tr>\n",
       "      <th>75%</th>\n",
       "      <td>2013.000000</td>\n",
       "      <td>12.000000</td>\n",
       "      <td>27700.000000</td>\n",
       "      <td>4.359304e+07</td>\n",
       "    </tr>\n",
       "    <tr>\n",
       "      <th>max</th>\n",
       "      <td>2015.000000</td>\n",
       "      <td>353122.000000</td>\n",
       "      <td>37800.000000</td>\n",
       "      <td>1.313974e+09</td>\n",
       "    </tr>\n",
       "  </tbody>\n",
       "</table>\n",
       "</div>"
      ],
      "text/plain": [
       "                Year          Count            GDP    Population\n",
       "count  247284.000000  245364.000000  214848.000000  2.148480e+05\n",
       "mean     2010.249478     244.807841   16518.984584  7.998275e+07\n",
       "std         3.206390    2140.069391   11310.097391  2.340447e+08\n",
       "min      2005.000000       0.000000     900.000000  1.995090e+05\n",
       "25%      2007.000000       0.000000    5100.000000  6.352117e+06\n",
       "50%      2010.000000       0.000000   13900.000000  1.212707e+07\n",
       "75%      2013.000000      12.000000   27700.000000  4.359304e+07\n",
       "max      2015.000000  353122.000000   37800.000000  1.313974e+09"
      ]
     },
     "execution_count": 5,
     "metadata": {},
     "output_type": "execute_result"
    }
   ],
   "source": [
    "td.describe()"
   ]
  },
  {
   "cell_type": "code",
   "execution_count": 6,
   "id": "7e694323",
   "metadata": {},
   "outputs": [
    {
     "data": {
      "text/plain": [
       "Index(['Continent', 'Country', 'CountryJoin', 'Month', 'Seasons', 'State',\n",
       "       'Way In', 'Year', 'Count', 'GDP', 'Population'],\n",
       "      dtype='object')"
      ]
     },
     "execution_count": 6,
     "metadata": {},
     "output_type": "execute_result"
    }
   ],
   "source": [
    "td.columns"
   ]
  },
  {
   "cell_type": "code",
   "execution_count": 7,
   "id": "abc11207",
   "metadata": {},
   "outputs": [
    {
     "data": {
      "text/plain": [
       "Continent         7\n",
       "Country          54\n",
       "CountryJoin      50\n",
       "Month            12\n",
       "Seasons           4\n",
       "State            18\n",
       "Way In            4\n",
       "Year             11\n",
       "Count          6179\n",
       "GDP              46\n",
       "Population       50\n",
       "dtype: int64"
      ]
     },
     "execution_count": 7,
     "metadata": {},
     "output_type": "execute_result"
    }
   ],
   "source": [
    "td.nunique()"
   ]
  },
  {
   "cell_type": "code",
   "execution_count": 8,
   "id": "acb4a327",
   "metadata": {},
   "outputs": [
    {
     "name": "stdout",
     "output_type": "stream",
     "text": [
      "<class 'pandas.core.frame.DataFrame'>\n",
      "RangeIndex: 247284 entries, 0 to 247283\n",
      "Data columns (total 11 columns):\n",
      " #   Column       Non-Null Count   Dtype  \n",
      "---  ------       --------------   -----  \n",
      " 0   Continent    247284 non-null  object \n",
      " 1   Country      247284 non-null  object \n",
      " 2   CountryJoin  214848 non-null  object \n",
      " 3   Month        247284 non-null  object \n",
      " 4   Seasons      247284 non-null  object \n",
      " 5   State        247284 non-null  object \n",
      " 6   Way In       247284 non-null  object \n",
      " 7   Year         247284 non-null  int64  \n",
      " 8   Count        245364 non-null  float64\n",
      " 9   GDP          214848 non-null  float64\n",
      " 10  Population   214848 non-null  float64\n",
      "dtypes: float64(3), int64(1), object(7)\n",
      "memory usage: 20.8+ MB\n"
     ]
    }
   ],
   "source": [
    "td.info()"
   ]
  },
  {
   "cell_type": "code",
   "execution_count": 9,
   "id": "0c482ee8",
   "metadata": {},
   "outputs": [
    {
     "data": {
      "text/plain": [
       "Continent          0\n",
       "Country            0\n",
       "CountryJoin    32436\n",
       "Month              0\n",
       "Seasons            0\n",
       "State              0\n",
       "Way In             0\n",
       "Year               0\n",
       "Count           1920\n",
       "GDP            32436\n",
       "Population     32436\n",
       "dtype: int64"
      ]
     },
     "execution_count": 9,
     "metadata": {},
     "output_type": "execute_result"
    }
   ],
   "source": [
    "td.isnull().sum()"
   ]
  },
  {
   "cell_type": "code",
   "execution_count": 10,
   "id": "f2435477",
   "metadata": {},
   "outputs": [],
   "source": [
    "td['GDP'] = td['GDP'].fillna(td['GDP'].mean())\n",
    "td['Population'] = td['Population'].fillna(td['Population'].mean())"
   ]
  },
  {
   "cell_type": "code",
   "execution_count": 11,
   "id": "5948079e",
   "metadata": {},
   "outputs": [],
   "source": [
    "td['Country'] = td['Country'].fillna(td['Country'].mode()[0])\n",
    "td['State'] = td['State'].fillna(td['State'].mode()[0])"
   ]
  },
  {
   "cell_type": "code",
   "execution_count": 12,
   "id": "5285201d",
   "metadata": {},
   "outputs": [
    {
     "data": {
      "text/plain": [
       "Continent          0\n",
       "Country            0\n",
       "CountryJoin    32436\n",
       "Month              0\n",
       "Seasons            0\n",
       "State              0\n",
       "Way In             0\n",
       "Year               0\n",
       "Count           1920\n",
       "GDP                0\n",
       "Population         0\n",
       "dtype: int64"
      ]
     },
     "execution_count": 12,
     "metadata": {},
     "output_type": "execute_result"
    }
   ],
   "source": [
    "td.isnull().sum()"
   ]
  },
  {
   "cell_type": "code",
   "execution_count": 13,
   "id": "d30efbe4",
   "metadata": {},
   "outputs": [],
   "source": [
    "td['CountryJoin'] = td['CountryJoin'].fillna('Other countries')"
   ]
  },
  {
   "cell_type": "code",
   "execution_count": 14,
   "id": "5961f59b",
   "metadata": {},
   "outputs": [
    {
     "data": {
      "text/plain": [
       "0"
      ]
     },
     "execution_count": 14,
     "metadata": {},
     "output_type": "execute_result"
    }
   ],
   "source": [
    "td['CountryJoin'].isnull().sum()"
   ]
  },
  {
   "cell_type": "code",
   "execution_count": 15,
   "id": "23641433",
   "metadata": {},
   "outputs": [
    {
     "data": {
      "text/plain": [
       "Continent         0\n",
       "Country           0\n",
       "CountryJoin       0\n",
       "Month             0\n",
       "Seasons           0\n",
       "State             0\n",
       "Way In            0\n",
       "Year              0\n",
       "Count          1920\n",
       "GDP               0\n",
       "Population        0\n",
       "dtype: int64"
      ]
     },
     "execution_count": 15,
     "metadata": {},
     "output_type": "execute_result"
    }
   ],
   "source": [
    "td.isnull().sum()"
   ]
  },
  {
   "cell_type": "code",
   "execution_count": 17,
   "id": "54da42c1",
   "metadata": {},
   "outputs": [],
   "source": [
    "average_count = td['Count'].mean()\n",
    "td['Count'] = td['Count'].fillna(average_count)"
   ]
  },
  {
   "cell_type": "code",
   "execution_count": 18,
   "id": "fd22ca25",
   "metadata": {},
   "outputs": [
    {
     "data": {
      "text/plain": [
       "Continent      0\n",
       "Country        0\n",
       "CountryJoin    0\n",
       "Month          0\n",
       "Seasons        0\n",
       "State          0\n",
       "Way In         0\n",
       "Year           0\n",
       "Count          0\n",
       "GDP            0\n",
       "Population     0\n",
       "dtype: int64"
      ]
     },
     "execution_count": 18,
     "metadata": {},
     "output_type": "execute_result"
    }
   ],
   "source": [
    "td.isnull().sum()"
   ]
  },
  {
   "cell_type": "code",
   "execution_count": null,
   "id": "8dcf2c70",
   "metadata": {},
   "outputs": [],
   "source": [
    "t.to_csv(cleaned_file_path, index=False)"
   ]
  }
 ],
 "metadata": {
  "kernelspec": {
   "display_name": "Python 3 (ipykernel)",
   "language": "python",
   "name": "python3"
  },
  "language_info": {
   "codemirror_mode": {
    "name": "ipython",
    "version": 3
   },
   "file_extension": ".py",
   "mimetype": "text/x-python",
   "name": "python",
   "nbconvert_exporter": "python",
   "pygments_lexer": "ipython3",
   "version": "3.11.5"
  }
 },
 "nbformat": 4,
 "nbformat_minor": 5
}
